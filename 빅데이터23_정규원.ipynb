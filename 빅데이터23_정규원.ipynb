{
 "cells": [
  {
   "cell_type": "markdown",
   "id": "62e5f590",
   "metadata": {},
   "source": [
    "# 문제1\n",
    "- 1번 답 : 선 그래프\n",
    "- 2번 답 : plot"
   ]
  },
  {
   "cell_type": "markdown",
   "id": "8157c8fd",
   "metadata": {},
   "source": [
    "# 문제 2\n",
    "- 1번 답 : 막대 그래프\n",
    "- 2번 답 : bar plot 사용, 함수 : pit.bar(x,y)"
   ]
  },
  {
   "cell_type": "markdown",
   "id": "d4ad5b74",
   "metadata": {},
   "source": [
    "# 문제 3"
   ]
  },
  {
   "cell_type": "code",
   "execution_count": 9,
   "id": "7b4bf7fc",
   "metadata": {},
   "outputs": [
    {
     "name": "stdout",
     "output_type": "stream",
     "text": [
      "짝수 2 개, 홀수 7 개 \n"
     ]
    }
   ],
   "source": [
    "list1 = [1,50,27,19,37,33,5,3,48]\n",
    "cnt = 0\n",
    "cnt2 = 0\n",
    "for i in range(len(list1)):\n",
    "    if list1[i]%2==0:\n",
    "        cnt += 1\n",
    "    else:\n",
    "        cnt2 += 1\n",
    "print(f\"짝수 {cnt} 개, 홀수 {cnt2} 개 \")"
   ]
  },
  {
   "cell_type": "markdown",
   "id": "4a7cb36a",
   "metadata": {},
   "source": [
    "# 문제 4"
   ]
  },
  {
   "cell_type": "code",
   "execution_count": 2,
   "id": "ad3b2b4f",
   "metadata": {},
   "outputs": [
    {
     "ename": "SyntaxError",
     "evalue": "invalid syntax (3594811486.py, line 8)",
     "output_type": "error",
     "traceback": [
      "\u001b[1;36m  Cell \u001b[1;32mIn[2], line 8\u001b[1;36m\u001b[0m\n\u001b[1;33m    for i in range score_list:\u001b[0m\n\u001b[1;37m                   ^\u001b[0m\n\u001b[1;31mSyntaxError\u001b[0m\u001b[1;31m:\u001b[0m invalid syntax\n"
     ]
    }
   ],
   "source": [
    "score_list = [['김미희', 89, 78, 99], \n",
    "              ['서대희', 67,88,77], \n",
    "              ['강예진', 100, 55, 96]]\n",
    "print(\"=\"*100)\n",
    "total = 0\n",
    "print(\"이름\", \"Python\", \"Java\", \"DB\", \"평균\", \"학점\")\n",
    "\n",
    "for i in range score_list:\n",
    "    \n",
    "\n",
    "# 개인당 평균 구하기\n",
    "for i in range(3):\n",
    "    total += score_list[i][i+1]\n",
    "    result = total//3\n",
    "    print(result)\n",
    "    "
   ]
  },
  {
   "cell_type": "markdown",
   "id": "2b3b7547",
   "metadata": {},
   "source": [
    "# 문제 5"
   ]
  },
  {
   "cell_type": "code",
   "execution_count": 4,
   "id": "24430751",
   "metadata": {},
   "outputs": [],
   "source": [
    "import numpy as np\n",
    "import pandas as pd\n",
    "import matplotlib.pyplot as plt"
   ]
  },
  {
   "cell_type": "code",
   "execution_count": 10,
   "id": "f3830576",
   "metadata": {},
   "outputs": [],
   "source": [
    "X = [2,3,4,5,6,7,8]\n",
    "Y1 = [5,7,3,9,1,8,6]\n",
    "Y2 = [9,5,7,2,3,7,1]"
   ]
  },
  {
   "cell_type": "code",
   "execution_count": 11,
   "id": "a1c5401a",
   "metadata": {},
   "outputs": [
    {
     "ename": "NameError",
     "evalue": "name 'x' is not defined",
     "output_type": "error",
     "traceback": [
      "\u001b[1;31m---------------------------------------------------------------------------\u001b[0m",
      "\u001b[1;31mNameError\u001b[0m                                 Traceback (most recent call last)",
      "Cell \u001b[1;32mIn[11], line 1\u001b[0m\n\u001b[1;32m----> 1\u001b[0m plt\u001b[38;5;241m.\u001b[39mplot(x,Y1, label\u001b[38;5;241m=\u001b[39m\u001b[38;5;124m'\u001b[39m\u001b[38;5;124mY1\u001b[39m\u001b[38;5;124m'\u001b[39m, mec\u001b[38;5;241m=\u001b[39m\u001b[38;5;124m'\u001b[39m\u001b[38;5;124mr\u001b[39m\u001b[38;5;124m'\u001b[39m)\n\u001b[0;32m      2\u001b[0m plt\u001b[38;5;241m.\u001b[39mplot(x,Y2, label\u001b[38;5;241m=\u001b[39m\u001b[38;5;124m'\u001b[39m\u001b[38;5;124mY2\u001b[39m\u001b[38;5;124m'\u001b[39m, mec\u001b[38;5;241m=\u001b[39m\u001b[38;5;124m'\u001b[39m\u001b[38;5;124mb\u001b[39m\u001b[38;5;124m'\u001b[39m)\n\u001b[0;32m      4\u001b[0m plt\u001b[38;5;241m.\u001b[39mxlabel(\u001b[38;5;124m'\u001b[39m\u001b[38;5;124mX\u001b[39m\u001b[38;5;124m'\u001b[39m)\n",
      "\u001b[1;31mNameError\u001b[0m: name 'x' is not defined"
     ]
    }
   ],
   "source": [
    "plt.plot(x,Y1, label='Y1', mec='r')\n",
    "plt.plot(x,Y2, label='Y2', mec='b')\n",
    "\n",
    "plt.xlabel('X')\n",
    "plt.ylabel('y')\n",
    "plt.xlim(2,8)\n",
    "plt.grid()\n",
    "plt.legend()\n",
    "\n",
    "plt.show()"
   ]
  },
  {
   "cell_type": "markdown",
   "id": "b89e335a",
   "metadata": {},
   "source": [
    "# 문제6"
   ]
  },
  {
   "cell_type": "code",
   "execution_count": null,
   "id": "9c268eb4",
   "metadata": {},
   "outputs": [],
   "source": [
    "import pandas as pd\n",
    "import numpy as np\n",
    "from matplotlib import pyplot as plt"
   ]
  },
  {
   "cell_type": "code",
   "execution_count": null,
   "id": "d5092b11",
   "metadata": {},
   "outputs": [],
   "source": [
    "data = pd.read_csv(\"data/Traffic_Accident_2017.csv\", encoding='euc-kr')\n",
    "data"
   ]
  },
  {
   "cell_type": "code",
   "execution_count": null,
   "id": "e907fd98",
   "metadata": {},
   "outputs": [],
   "source": [
    "data.columns"
   ]
  },
  {
   "cell_type": "code",
   "execution_count": null,
   "id": "62bb44d4",
   "metadata": {},
   "outputs": [],
   "source": [
    "temp = data['요일'].value_counts()\n",
    "\n",
    "week = temp[['월', '화', '수', '목', '금', '토', '일']]\n",
    "week"
   ]
  },
  {
   "cell_type": "code",
   "execution_count": null,
   "id": "4202bacc",
   "metadata": {},
   "outputs": [],
   "source": []
  },
  {
   "cell_type": "code",
   "execution_count": null,
   "id": "ffb79145",
   "metadata": {},
   "outputs": [],
   "source": [
    "data['사고유형_대분류'].unique()"
   ]
  },
  {
   "cell_type": "code",
   "execution_count": null,
   "id": "acf473f1",
   "metadata": {},
   "outputs": [],
   "source": [
    "cap = data[data['사고유형_대분류']=='차대사람']\n",
    "cap"
   ]
  },
  {
   "cell_type": "code",
   "execution_count": null,
   "id": "6823e4be",
   "metadata": {},
   "outputs": [],
   "source": [
    "cap['사고유형_대분류'].value_counts()"
   ]
  },
  {
   "cell_type": "code",
   "execution_count": null,
   "id": "964bfa82",
   "metadata": {},
   "outputs": [],
   "source": [
    "data['발생년월일시']"
   ]
  },
  {
   "cell_type": "code",
   "execution_count": null,
   "id": "af53229d",
   "metadata": {},
   "outputs": [],
   "source": [
    "time = data['발생년월일시'].astype('int64')\n",
    "time %= 100\n",
    "time"
   ]
  },
  {
   "cell_type": "code",
   "execution_count": null,
   "id": "a09ba069",
   "metadata": {},
   "outputs": [],
   "source": [
    "bins = [-1, 2,5,8,11,14,17,20,23]\n",
    "label = [\"0~2\", \"3~5\", \"6~8\", \"9~11\", \"12~14\", \"15~17\", \"18~20\", \"21~23\"]\n",
    "rs = pd.cut(time, bins, labels=label)\n",
    "rs"
   ]
  },
  {
   "cell_type": "code",
   "execution_count": null,
   "id": "99c10657",
   "metadata": {},
   "outputs": [],
   "source": [
    "rs_data = rs.value_counts().sort_index()\n",
    "rs_data\n"
   ]
  },
  {
   "cell_type": "code",
   "execution_count": null,
   "id": "563c68c7",
   "metadata": {},
   "outputs": [],
   "source": [
    "ctcp = cap[['사상자수', '요일']].groupby('요일').sum()\n",
    "ctcp"
   ]
  },
  {
   "cell_type": "code",
   "execution_count": null,
   "id": "16b59598",
   "metadata": {},
   "outputs": [],
   "source": [
    "plt.rcParams['font.family'] = 'Malgun Gothic'"
   ]
  },
  {
   "cell_type": "code",
   "execution_count": null,
   "id": "7c8fc868",
   "metadata": {},
   "outputs": [],
   "source": []
  },
  {
   "cell_type": "code",
   "execution_count": null,
   "id": "1edb28a7",
   "metadata": {},
   "outputs": [],
   "source": []
  },
  {
   "cell_type": "code",
   "execution_count": null,
   "id": "5421e4c2",
   "metadata": {},
   "outputs": [],
   "source": []
  },
  {
   "cell_type": "code",
   "execution_count": null,
   "id": "607d0d80",
   "metadata": {},
   "outputs": [],
   "source": []
  },
  {
   "cell_type": "code",
   "execution_count": null,
   "id": "c801855f",
   "metadata": {},
   "outputs": [],
   "source": []
  },
  {
   "cell_type": "code",
   "execution_count": null,
   "id": "46ea9350",
   "metadata": {},
   "outputs": [],
   "source": []
  }
 ],
 "metadata": {
  "kernelspec": {
   "display_name": "Python 3 (ipykernel)",
   "language": "python",
   "name": "python3"
  },
  "language_info": {
   "codemirror_mode": {
    "name": "ipython",
    "version": 3
   },
   "file_extension": ".py",
   "mimetype": "text/x-python",
   "name": "python",
   "nbconvert_exporter": "python",
   "pygments_lexer": "ipython3",
   "version": "3.11.5"
  }
 },
 "nbformat": 4,
 "nbformat_minor": 5
}
