{
 "cells": [
  {
   "cell_type": "code",
   "execution_count": null,
   "id": "75ae7152",
   "metadata": {},
   "outputs": [],
   "source": [
    "# 계산기 불러오기\n",
    "import calculator as cal"
   ]
  },
  {
   "cell_type": "code",
   "execution_count": null,
   "id": "5bd31ca0",
   "metadata": {},
   "outputs": [],
   "source": [
    "# 덧셈 진행히보기\n",
    "cal.add(1,2)"
   ]
  },
  {
   "cell_type": "code",
   "execution_count": null,
   "id": "e119c160",
   "metadata": {},
   "outputs": [],
   "source": [
    "# 뺄셈 진행하기\n",
    "cal.minus(5,2)"
   ]
  },
  {
   "cell_type": "code",
   "execution_count": 1,
   "id": "5651f48b",
   "metadata": {},
   "outputs": [],
   "source": [
    "# 특정 함수만 불러오기\n",
    "from calculator import add"
   ]
  },
  {
   "cell_type": "code",
   "execution_count": 2,
   "id": "d6144342",
   "metadata": {},
   "outputs": [
    {
     "data": {
      "text/plain": [
       "3"
      ]
     },
     "execution_count": 2,
     "metadata": {},
     "output_type": "execute_result"
    }
   ],
   "source": [
    "add(1,2)"
   ]
  },
  {
   "cell_type": "code",
   "execution_count": null,
   "id": "f44fa804",
   "metadata": {},
   "outputs": [],
   "source": []
  },
  {
   "cell_type": "code",
   "execution_count": null,
   "id": "b948fe3d",
   "metadata": {},
   "outputs": [],
   "source": []
  },
  {
   "cell_type": "code",
   "execution_count": null,
   "id": "81033460",
   "metadata": {},
   "outputs": [],
   "source": []
  },
  {
   "cell_type": "code",
   "execution_count": null,
   "id": "5c58c475",
   "metadata": {},
   "outputs": [],
   "source": []
  },
  {
   "cell_type": "code",
   "execution_count": null,
   "id": "0e51a640",
   "metadata": {},
   "outputs": [],
   "source": []
  }
 ],
 "metadata": {
  "kernelspec": {
   "display_name": "Python 3 (ipykernel)",
   "language": "python",
   "name": "python3"
  },
  "language_info": {
   "codemirror_mode": {
    "name": "ipython",
    "version": 3
   },
   "file_extension": ".py",
   "mimetype": "text/x-python",
   "name": "python",
   "nbconvert_exporter": "python",
   "pygments_lexer": "ipython3",
   "version": "3.11.5"
  }
 },
 "nbformat": 4,
 "nbformat_minor": 5
}
